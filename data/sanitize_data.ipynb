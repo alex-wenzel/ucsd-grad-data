{
 "cells": [
  {
   "cell_type": "markdown",
   "metadata": {},
   "source": [
    "# Data sanitization\n",
    "\n",
    "This notebook loads a version of the data that is intentionally not included in this repository. It removes data for departments in which fewer than 10 students are represented for the purpose of preserving respondent privacy."
   ]
  },
  {
   "cell_type": "markdown",
   "metadata": {},
   "source": [
    "# Configuration"
   ]
  },
  {
   "cell_type": "code",
   "execution_count": 1,
   "metadata": {},
   "outputs": [
    {
     "name": "stdout",
     "output_type": "stream",
     "text": [
      "Pandas: 1.0.1\n"
     ]
    }
   ],
   "source": [
    "import pandas as pd\n",
    "print(f\"Pandas: {pd.__version__}\")"
   ]
  },
  {
   "cell_type": "markdown",
   "metadata": {},
   "source": [
    "The cell above should print\n",
    "- `Pandas: 1.0.1`"
   ]
  },
  {
   "cell_type": "markdown",
   "metadata": {},
   "source": [
    "# Load data\n",
    "\n",
    "Again, this is data that is external to this repo"
   ]
  },
  {
   "cell_type": "code",
   "execution_count": 12,
   "metadata": {},
   "outputs": [
    {
     "data": {
      "text/plain": [
       "(971, 65)"
      ]
     },
     "execution_count": 12,
     "metadata": {},
     "output_type": "execute_result"
    }
   ],
   "source": [
    "ext_data = pd.read_csv(\"../../../2020_housingsurvey/clean_data/2020_15.50_short-cols.tsv\", sep = '\\t')\n",
    "ext_data.shape"
   ]
  },
  {
   "cell_type": "markdown",
   "metadata": {},
   "source": [
    "# Count respondents by department"
   ]
  },
  {
   "cell_type": "code",
   "execution_count": 10,
   "metadata": {},
   "outputs": [
    {
     "data": {
      "text/plain": [
       "Chem & Biochem              106\n",
       "SIO                         101\n",
       "Biology                      91\n",
       "MAE                          55\n",
       "Physics                      44\n",
       "Biomedical Sciences          41\n",
       "Mathematics                  39\n",
       "Materials Science            38\n",
       "Bioengineering               37\n",
       "Cognitive Science            36\n",
       "Structural Engineering       34\n",
       "Economics                    34\n",
       "Psychology                   34\n",
       "Neuroscience                 25\n",
       "Sociology                    25\n",
       "Literature                   19\n",
       "Anthropology                 19\n",
       "Visual Arts                  18\n",
       "Political Science            17\n",
       "Education Studies            17\n",
       "Bioinformatics               16\n",
       "School of Medicine [MD]      16\n",
       "Linguistics                  15\n",
       "ECE                          15\n",
       "Ethnic Studies               14\n",
       "Communication                14\n",
       "History                      11\n",
       "Philosophy                   10\n",
       "Music                         7\n",
       "CSE                           6\n",
       "GPS                           5\n",
       "MAS                           3\n",
       "Latin American Studies        2\n",
       "NENG / CENG                   2\n",
       "Science Studies               1\n",
       "CSME                          1\n",
       "School of Medicine [JDP]      1\n",
       "Rady                          1\n",
       "Global Health                 1\n",
       "Name: grad_program, dtype: int64"
      ]
     },
     "execution_count": 10,
     "metadata": {},
     "output_type": "execute_result"
    }
   ],
   "source": [
    "dept_counts = ext_data[\"grad_program\"].value_counts()\n",
    "dept_counts"
   ]
  },
  {
   "cell_type": "code",
   "execution_count": 14,
   "metadata": {},
   "outputs": [
    {
     "data": {
      "text/plain": [
       "(941, 65)"
      ]
     },
     "execution_count": 14,
     "metadata": {},
     "output_type": "execute_result"
    }
   ],
   "source": [
    "dept_counts_geq_10 = dept_counts[dept_counts>=10].index\n",
    "censored_data = ext_data[ext_data[\"grad_program\"].isin(dept_counts_geq_10)]\n",
    "censored_data.shape"
   ]
  },
  {
   "cell_type": "markdown",
   "metadata": {},
   "source": [
    "# Save data"
   ]
  },
  {
   "cell_type": "code",
   "execution_count": 15,
   "metadata": {},
   "outputs": [],
   "source": [
    "censored_data.to_csv(\"grad_data_censored.tsv\", sep = '\\t')"
   ]
  },
  {
   "cell_type": "code",
   "execution_count": null,
   "metadata": {},
   "outputs": [],
   "source": []
  }
 ],
 "metadata": {
  "kernelspec": {
   "display_name": "Python 3",
   "language": "python",
   "name": "python3"
  },
  "language_info": {
   "codemirror_mode": {
    "name": "ipython",
    "version": 3
   },
   "file_extension": ".py",
   "mimetype": "text/x-python",
   "name": "python",
   "nbconvert_exporter": "python",
   "pygments_lexer": "ipython3",
   "version": "3.7.1"
  }
 },
 "nbformat": 4,
 "nbformat_minor": 2
}
