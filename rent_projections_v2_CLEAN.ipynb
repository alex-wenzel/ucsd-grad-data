{
 "cells": [
  {
   "cell_type": "markdown",
   "metadata": {},
   "source": [
    "# Project rent burden for 2020-2021 school year\n",
    "\n",
    "This notebook estimates the change in number of on-campus grad students who will be rent burdened during the upcoming 2020-2021 school year following UCSD's proposed rent increases. This analysis makes the simplifying assumption that all students currently living in an on-campus unit will still be living in that unit next year. \n",
    "\n",
    "This analyis was performed well in advance of the COVID-19 shutdowns on campus and wider society, and as I document this notebook now on March 14th 2020, housing situation changes related to COVID-19 cannot be predicted or anticipated. Future versions of this analysis may be conducted to reflect any major changes in UCSD housing policy.\n",
    "\n",
    "**Note**: This notebook originally used the uncensored data. There may be slight differences when this analysis is reproduced with the public data. See the notebook in `data/` for more information on what was censored from the public release."
   ]
  },
  {
   "cell_type": "code",
   "execution_count": 1,
   "metadata": {},
   "outputs": [],
   "source": [
    "import numpy as np\n",
    "import pandas as pd\n",
    "import plotly.graph_objs as go\n",
    "from scipy.stats import mannwhitneyu"
   ]
  },
  {
   "cell_type": "markdown",
   "metadata": {},
   "source": [
    "Check that pandas version is $\\geq$ 1.0."
   ]
  },
  {
   "cell_type": "code",
   "execution_count": 2,
   "metadata": {},
   "outputs": [
    {
     "data": {
      "text/plain": [
       "'1.0.1'"
      ]
     },
     "execution_count": 2,
     "metadata": {},
     "output_type": "execute_result"
    }
   ],
   "source": [
    "pd.__version__"
   ]
  },
  {
   "cell_type": "markdown",
   "metadata": {},
   "source": [
    "Check that plotly version is 4.5.0"
   ]
  },
  {
   "cell_type": "code",
   "execution_count": 5,
   "metadata": {},
   "outputs": [
    {
     "data": {
      "text/plain": [
       "'4.5.0'"
      ]
     },
     "execution_count": 5,
     "metadata": {},
     "output_type": "execute_result"
    }
   ],
   "source": [
    "import plotly\n",
    "plotly.__version__"
   ]
  },
  {
   "cell_type": "markdown",
   "metadata": {},
   "source": [
    "# Load survey data\n",
    "\n",
    "This file is the raw survey data from Google Forms with the column names altered to be shorter."
   ]
  },
  {
   "cell_type": "code",
   "execution_count": 7,
   "metadata": {},
   "outputs": [
    {
     "data": {
      "text/html": [
       "<div>\n",
       "<style scoped>\n",
       "    .dataframe tbody tr th:only-of-type {\n",
       "        vertical-align: middle;\n",
       "    }\n",
       "\n",
       "    .dataframe tbody tr th {\n",
       "        vertical-align: top;\n",
       "    }\n",
       "\n",
       "    .dataframe thead th {\n",
       "        text-align: right;\n",
       "    }\n",
       "</style>\n",
       "<table border=\"1\" class=\"dataframe\">\n",
       "  <thead>\n",
       "    <tr style=\"text-align: right;\">\n",
       "      <th></th>\n",
       "      <th>Unnamed: 0</th>\n",
       "      <th>start_date</th>\n",
       "      <th>end_date</th>\n",
       "      <th>resp_type</th>\n",
       "      <th>ip</th>\n",
       "      <th>progress</th>\n",
       "      <th>duration</th>\n",
       "      <th>finished</th>\n",
       "      <th>rec_date</th>\n",
       "      <th>resp_id</th>\n",
       "      <th>...</th>\n",
       "      <th>n_dependents</th>\n",
       "      <th>has_healthcare</th>\n",
       "      <th>dependent_has_healthcare_CAT</th>\n",
       "      <th>depdendent_has_healthcare_TXT</th>\n",
       "      <th>expenses_CAT</th>\n",
       "      <th>expenses_TXT</th>\n",
       "      <th>expenses_cost_month</th>\n",
       "      <th>comments</th>\n",
       "      <th>parent_topics</th>\n",
       "      <th>topics</th>\n",
       "    </tr>\n",
       "  </thead>\n",
       "  <tbody>\n",
       "    <tr>\n",
       "      <th>0</th>\n",
       "      <td>1</td>\n",
       "      <td>2020-02-05 16:42:04</td>\n",
       "      <td>2020-02-05 16:45:55</td>\n",
       "      <td>Survey Preview</td>\n",
       "      <td>NaN</td>\n",
       "      <td>100</td>\n",
       "      <td>230</td>\n",
       "      <td>True</td>\n",
       "      <td>2020-02-05 16:45:55.453000</td>\n",
       "      <td>R_2ir9mTnzPwy5Dnb</td>\n",
       "      <td>...</td>\n",
       "      <td>1</td>\n",
       "      <td>NaN</td>\n",
       "      <td>NaN</td>\n",
       "      <td>NaN</td>\n",
       "      <td>NaN</td>\n",
       "      <td>NaN</td>\n",
       "      <td>NaN</td>\n",
       "      <td>You are a goddess</td>\n",
       "      <td>NaN</td>\n",
       "      <td>Unknown</td>\n",
       "    </tr>\n",
       "    <tr>\n",
       "      <th>1</th>\n",
       "      <td>2</td>\n",
       "      <td>2020-02-05 18:27:44</td>\n",
       "      <td>2020-02-05 19:10:56</td>\n",
       "      <td>Survey Preview</td>\n",
       "      <td>NaN</td>\n",
       "      <td>100</td>\n",
       "      <td>2591</td>\n",
       "      <td>True</td>\n",
       "      <td>2020-02-05 19:10:56.668000</td>\n",
       "      <td>R_10TRlQ4wnfjELpB</td>\n",
       "      <td>...</td>\n",
       "      <td>NaN</td>\n",
       "      <td>NaN</td>\n",
       "      <td>NaN</td>\n",
       "      <td>NaN</td>\n",
       "      <td>NaN</td>\n",
       "      <td>NaN</td>\n",
       "      <td>NaN</td>\n",
       "      <td>NaN</td>\n",
       "      <td>NaN</td>\n",
       "      <td>Unknown</td>\n",
       "    </tr>\n",
       "    <tr>\n",
       "      <th>2</th>\n",
       "      <td>3</td>\n",
       "      <td>2020-02-05 19:09:12</td>\n",
       "      <td>2020-02-05 19:12:38</td>\n",
       "      <td>Survey Preview</td>\n",
       "      <td>NaN</td>\n",
       "      <td>100</td>\n",
       "      <td>205</td>\n",
       "      <td>True</td>\n",
       "      <td>2020-02-05 19:12:38.293000</td>\n",
       "      <td>R_V3IqukjLVB20BLX</td>\n",
       "      <td>...</td>\n",
       "      <td>0</td>\n",
       "      <td>NaN</td>\n",
       "      <td>NaN</td>\n",
       "      <td>NaN</td>\n",
       "      <td>NaN</td>\n",
       "      <td>NaN</td>\n",
       "      <td>NaN</td>\n",
       "      <td>NaN</td>\n",
       "      <td>NaN</td>\n",
       "      <td>Unknown</td>\n",
       "    </tr>\n",
       "    <tr>\n",
       "      <th>3</th>\n",
       "      <td>4</td>\n",
       "      <td>2020-02-05 19:09:36</td>\n",
       "      <td>2020-02-05 19:12:42</td>\n",
       "      <td>Survey Preview</td>\n",
       "      <td>NaN</td>\n",
       "      <td>100</td>\n",
       "      <td>186</td>\n",
       "      <td>True</td>\n",
       "      <td>2020-02-05 19:12:43.306000</td>\n",
       "      <td>R_Zt6ip9HGmdFeHrX</td>\n",
       "      <td>...</td>\n",
       "      <td>0</td>\n",
       "      <td>NaN</td>\n",
       "      <td>NaN</td>\n",
       "      <td>NaN</td>\n",
       "      <td>NaN</td>\n",
       "      <td>NaN</td>\n",
       "      <td>NaN</td>\n",
       "      <td>NaN</td>\n",
       "      <td>NaN</td>\n",
       "      <td>Unknown</td>\n",
       "    </tr>\n",
       "    <tr>\n",
       "      <th>4</th>\n",
       "      <td>5</td>\n",
       "      <td>2020-02-05 19:10:32</td>\n",
       "      <td>2020-02-05 19:12:51</td>\n",
       "      <td>Survey Preview</td>\n",
       "      <td>NaN</td>\n",
       "      <td>100</td>\n",
       "      <td>138</td>\n",
       "      <td>True</td>\n",
       "      <td>2020-02-05 19:12:51.718000</td>\n",
       "      <td>R_1jMJreLskBbuWpc</td>\n",
       "      <td>...</td>\n",
       "      <td>NaN</td>\n",
       "      <td>NaN</td>\n",
       "      <td>NaN</td>\n",
       "      <td>NaN</td>\n",
       "      <td>NaN</td>\n",
       "      <td>NaN</td>\n",
       "      <td>NaN</td>\n",
       "      <td>NaN</td>\n",
       "      <td>NaN</td>\n",
       "      <td>NaN</td>\n",
       "    </tr>\n",
       "  </tbody>\n",
       "</table>\n",
       "<p>5 rows × 65 columns</p>\n",
       "</div>"
      ],
      "text/plain": [
       "   Unnamed: 0           start_date             end_date       resp_type   ip  \\\n",
       "0           1  2020-02-05 16:42:04  2020-02-05 16:45:55  Survey Preview  NaN   \n",
       "1           2  2020-02-05 18:27:44  2020-02-05 19:10:56  Survey Preview  NaN   \n",
       "2           3  2020-02-05 19:09:12  2020-02-05 19:12:38  Survey Preview  NaN   \n",
       "3           4  2020-02-05 19:09:36  2020-02-05 19:12:42  Survey Preview  NaN   \n",
       "4           5  2020-02-05 19:10:32  2020-02-05 19:12:51  Survey Preview  NaN   \n",
       "\n",
       "   progress  duration  finished                    rec_date  \\\n",
       "0       100       230      True  2020-02-05 16:45:55.453000   \n",
       "1       100      2591      True  2020-02-05 19:10:56.668000   \n",
       "2       100       205      True  2020-02-05 19:12:38.293000   \n",
       "3       100       186      True  2020-02-05 19:12:43.306000   \n",
       "4       100       138      True  2020-02-05 19:12:51.718000   \n",
       "\n",
       "             resp_id  ...  n_dependents  has_healthcare  \\\n",
       "0  R_2ir9mTnzPwy5Dnb  ...             1             NaN   \n",
       "1  R_10TRlQ4wnfjELpB  ...           NaN             NaN   \n",
       "2  R_V3IqukjLVB20BLX  ...             0             NaN   \n",
       "3  R_Zt6ip9HGmdFeHrX  ...             0             NaN   \n",
       "4  R_1jMJreLskBbuWpc  ...           NaN             NaN   \n",
       "\n",
       "   dependent_has_healthcare_CAT  depdendent_has_healthcare_TXT  expenses_CAT  \\\n",
       "0                           NaN                            NaN           NaN   \n",
       "1                           NaN                            NaN           NaN   \n",
       "2                           NaN                            NaN           NaN   \n",
       "3                           NaN                            NaN           NaN   \n",
       "4                           NaN                            NaN           NaN   \n",
       "\n",
       "   expenses_TXT expenses_cost_month           comments parent_topics   topics  \n",
       "0           NaN                 NaN  You are a goddess           NaN  Unknown  \n",
       "1           NaN                 NaN                NaN           NaN  Unknown  \n",
       "2           NaN                 NaN                NaN           NaN  Unknown  \n",
       "3           NaN                 NaN                NaN           NaN  Unknown  \n",
       "4           NaN                 NaN                NaN           NaN      NaN  \n",
       "\n",
       "[5 rows x 65 columns]"
      ]
     },
     "execution_count": 7,
     "metadata": {},
     "output_type": "execute_result"
    }
   ],
   "source": [
    "df = pd.read_csv(\"2020_housingsurvey/clean_data/2020_15.50_short-cols.tsv\", sep = '\\t')\n",
    "df.head()"
   ]
  },
  {
   "cell_type": "markdown",
   "metadata": {},
   "source": [
    "# Clean dollar amounts in rent column\n",
    "\n",
    "This function cleans up the low-hanging fruit in reported dollar amounts. Values that could not be cleaned (converted to integers automatically) will eventually be excluded. I have written this function to print out these values so at the very least these reported experiences will be documented somewhere. \"Homeless\" is not an integer."
   ]
  },
  {
   "cell_type": "code",
   "execution_count": 8,
   "metadata": {},
   "outputs": [],
   "source": [
    "def clean_dollars(x):\n",
    "    val = str(x)\n",
    "    try:\n",
    "        return int(val.split()[0].replace(\"$\",\"\").replace(\",\",\"\").replace(\"~\",\"\").split('.')[0])\n",
    "    except (TypeError, ValueError):\n",
    "        print(val)\n",
    "        return val"
   ]
  },
  {
   "cell_type": "code",
   "execution_count": 9,
   "metadata": {},
   "outputs": [
    {
     "name": "stdout",
     "output_type": "stream",
     "text": [
      "Homeless\n",
      "I live with family because I can not afford rent\n",
      "850-870\n",
      "$pence 1074\n",
      "I have a mortgate, and two kids in college I pay both their rents too $5000\n",
      "Right now 600 but I will soon have to pay 1000\n",
      "personal: $1150; whole house: $3950\n"
     ]
    }
   ],
   "source": [
    "df[\"rent_month\"] = df[\"rent_month\"].apply(clean_dollars)"
   ]
  },
  {
   "cell_type": "markdown",
   "metadata": {},
   "source": [
    "# Clean dollar amounts in income column"
   ]
  },
  {
   "cell_type": "code",
   "execution_count": 10,
   "metadata": {},
   "outputs": [
    {
     "name": "stdout",
     "output_type": "stream",
     "text": [
      "1600/month\n",
      "Around $28000\n",
      "None\n",
      "not enough\n",
      "-\n",
      "Depends.  about $25,000 for 2 years fellowship, TA wages for other years\n",
      "32’000\n",
      "30k last fiscal year, according to W2\n",
      "Around 21,000\n",
      "￥1，000\n",
      "approximately $28,800\n",
      "nan\n",
      "first year: $4,000 in stipend/award, $7,000-14,000 employment salary range\n",
      "Program costs and variable employment\n",
      "32K\n",
      "~ $21,000\n",
      "?\n",
      "18000-24000\n",
      "nan\n",
      "$30K (pre-tax income)\n",
      "Only tuition remission \n",
      "Allegedly $33,000\n",
      "$26,000-27,000\n",
      "nan\n",
      "$ 13368\n",
      "Not guaranteed\n",
      "&lt;20,000\n",
      "about $21,000 before tax but after mandatory fees\n"
     ]
    }
   ],
   "source": [
    "df[\"grad_prog_comp\"] = df[\"grad_prog_comp\"].apply(clean_dollars)"
   ]
  },
  {
   "cell_type": "markdown",
   "metadata": {},
   "source": [
    "# Check both income and rent are integers"
   ]
  },
  {
   "cell_type": "code",
   "execution_count": 11,
   "metadata": {},
   "outputs": [],
   "source": [
    "def are_income_rent_ints(row):\n",
    "    return type(row[\"grad_prog_comp\"]) == int and type(row[\"rent_month\"]) == int"
   ]
  },
  {
   "cell_type": "code",
   "execution_count": 12,
   "metadata": {},
   "outputs": [
    {
     "name": "stdout",
     "output_type": "stream",
     "text": [
      "(971, 65)\n"
     ]
    },
    {
     "data": {
      "text/plain": [
       "(936, 65)"
      ]
     },
     "execution_count": 12,
     "metadata": {},
     "output_type": "execute_result"
    }
   ],
   "source": [
    "print(df.shape)\n",
    "\n",
    "df = df[df.apply(are_income_rent_ints, axis = 1)]\n",
    "\n",
    "df.shape"
   ]
  },
  {
   "cell_type": "markdown",
   "metadata": {},
   "source": [
    "After cleaning and converting relevant dollar amounts to integers, 936 observations remain."
   ]
  },
  {
   "cell_type": "markdown",
   "metadata": {},
   "source": [
    "# Drop rows where `grad_prog_comp` is 0\n",
    "\n",
    "Graduate program compensation is used as income. Therefore this column cannot be zero for rent burden calculations."
   ]
  },
  {
   "cell_type": "code",
   "execution_count": 13,
   "metadata": {},
   "outputs": [
    {
     "name": "stdout",
     "output_type": "stream",
     "text": [
      "(936, 65)\n"
     ]
    },
    {
     "data": {
      "text/plain": [
       "(889, 65)"
      ]
     },
     "execution_count": 13,
     "metadata": {},
     "output_type": "execute_result"
    }
   ],
   "source": [
    "print(df.shape)\n",
    "\n",
    "df = df[df[\"grad_prog_comp\"] > 0]\n",
    "\n",
    "df.shape"
   ]
  },
  {
   "cell_type": "markdown",
   "metadata": {},
   "source": [
    "# Calculate rent fraction of income"
   ]
  },
  {
   "cell_type": "code",
   "execution_count": 14,
   "metadata": {},
   "outputs": [],
   "source": [
    "df[\"rent_burden\"] = (df[\"rent_month\"] * 12) / df[\"grad_prog_comp\"]"
   ]
  },
  {
   "cell_type": "markdown",
   "metadata": {},
   "source": [
    "# Remove rent burden values > 1.0\n",
    "\n",
    "These are assumed to be erroneous observations. Some respondents very likely included the rent for their entire unit, not just the room they pay for. "
   ]
  },
  {
   "cell_type": "code",
   "execution_count": 15,
   "metadata": {},
   "outputs": [
    {
     "name": "stdout",
     "output_type": "stream",
     "text": [
      "(889, 66)\n"
     ]
    },
    {
     "data": {
      "text/plain": [
       "(835, 66)"
      ]
     },
     "execution_count": 15,
     "metadata": {},
     "output_type": "execute_result"
    }
   ],
   "source": [
    "print(df.shape)\n",
    "\n",
    "df = df[df[\"rent_burden\"] < 1.0]\n",
    "\n",
    "df.shape"
   ]
  },
  {
   "cell_type": "markdown",
   "metadata": {},
   "source": [
    "# Function: Violin w/rent burden line\n",
    "\n",
    "Plot the distribution of rent burdens from the survey."
   ]
  },
  {
   "cell_type": "code",
   "execution_count": 16,
   "metadata": {},
   "outputs": [],
   "source": [
    "def plot_rent_burden(rent_burdens):\n",
    "    fig = go.Figure()\n",
    "    fig.add_trace(\n",
    "        go.Violin(\n",
    "            y = rent_burdens,\n",
    "            name = \"Rent Burden\",\n",
    "            box_visible = True,\n",
    "            meanline_visible = True\n",
    "        )\n",
    "    )\n",
    "    fig.update_layout(template='plotly_white')\n",
    "    fig.show(renderer=\"png\")"
   ]
  },
  {
   "cell_type": "code",
   "execution_count": 17,
   "metadata": {},
   "outputs": [
    {
     "data": {
      "image/png": "[encoded data removed]"
     },
     "metadata": {},
     "output_type": "display_data"
    }
   ],
   "source": [
    "plot_rent_burden(df[\"rent_burden\"])"
   ]
  },
  {
   "cell_type": "markdown",
   "metadata": {},
   "source": [
    "# Visualize rent burden for on campus\n",
    "\n",
    "Visualize just rent burdens for on campus grad students."
   ]
  },
  {
   "cell_type": "code",
   "execution_count": 15,
   "metadata": {},
   "outputs": [
    {
     "data": {
      "image/png": "[encoded data removed]"
     },
     "metadata": {},
     "output_type": "display_data"
    }
   ],
   "source": [
    "on_campus_categories = [\"On-campus (lease/rent)\", \"On-campus (sublet)\"]\n",
    "\n",
    "plot_rent_burden(\n",
    "    df[df[\"on_campus\"].isin(on_campus_categories)][\"rent_burden\"]\n",
    ")"
   ]
  },
  {
   "cell_type": "markdown",
   "metadata": {},
   "source": [
    "# Construct a dataframe of current and projected rents\n",
    "\n",
    "This uses Petia's data [here](https://docs.google.com/spreadsheets/d/1r1sWVa-RuEmTx7nQN08XOEJHT4Uqi7thAY3qwDDQ0Lg/edit#gid=0). Rent amounts are the amount *per room*, i.e., 2bed rates are divided by 2."
   ]
  },
  {
   "cell_type": "code",
   "execution_count": 18,
   "metadata": {},
   "outputs": [
    {
     "data": {
      "text/html": [
       "<div>\n",
       "<style scoped>\n",
       "    .dataframe tbody tr th:only-of-type {\n",
       "        vertical-align: middle;\n",
       "    }\n",
       "\n",
       "    .dataframe tbody tr th {\n",
       "        vertical-align: top;\n",
       "    }\n",
       "\n",
       "    .dataframe thead th {\n",
       "        text-align: right;\n",
       "    }\n",
       "</style>\n",
       "<table border=\"1\" class=\"dataframe\">\n",
       "  <thead>\n",
       "    <tr style=\"text-align: right;\">\n",
       "      <th></th>\n",
       "      <th>unit_type</th>\n",
       "      <th>age</th>\n",
       "      <th>n_beds</th>\n",
       "      <th>rent_19-20</th>\n",
       "      <th>rent_20-21</th>\n",
       "    </tr>\n",
       "  </thead>\n",
       "  <tbody>\n",
       "    <tr>\n",
       "      <th>0</th>\n",
       "      <td>coastst</td>\n",
       "      <td>old</td>\n",
       "      <td>21</td>\n",
       "      <td>794.0</td>\n",
       "      <td>818.0</td>\n",
       "    </tr>\n",
       "    <tr>\n",
       "      <th>1</th>\n",
       "      <td>coast1bd</td>\n",
       "      <td>old</td>\n",
       "      <td>54</td>\n",
       "      <td>1075.0</td>\n",
       "      <td>1108.0</td>\n",
       "    </tr>\n",
       "    <tr>\n",
       "      <th>2</th>\n",
       "      <td>coast2bd</td>\n",
       "      <td>old</td>\n",
       "      <td>62</td>\n",
       "      <td>751.0</td>\n",
       "      <td>773.5</td>\n",
       "    </tr>\n",
       "    <tr>\n",
       "      <th>3</th>\n",
       "      <td>cm1bd</td>\n",
       "      <td>old</td>\n",
       "      <td>9</td>\n",
       "      <td>1103.0</td>\n",
       "      <td>1136.0</td>\n",
       "    </tr>\n",
       "    <tr>\n",
       "      <th>4</th>\n",
       "      <td>cm2bd</td>\n",
       "      <td>old</td>\n",
       "      <td>364</td>\n",
       "      <td>608.5</td>\n",
       "      <td>627.0</td>\n",
       "    </tr>\n",
       "  </tbody>\n",
       "</table>\n",
       "</div>"
      ],
      "text/plain": [
       "  unit_type  age  n_beds  rent_19-20  rent_20-21\n",
       "0   coastst  old      21       794.0       818.0\n",
       "1  coast1bd  old      54      1075.0      1108.0\n",
       "2  coast2bd  old      62       751.0       773.5\n",
       "3     cm1bd  old       9      1103.0      1136.0\n",
       "4     cm2bd  old     364       608.5       627.0"
      ]
     },
     "execution_count": 18,
     "metadata": {},
     "output_type": "execute_result"
    }
   ],
   "source": [
    "housing_df = pd.DataFrame([\n",
    "    (\"coastst\", \"old\", 21, 794, 818),\n",
    "    (\"coast1bd\", \"old\", 54, 1075, 1108),\n",
    "    (\"coast2bd\", \"old\", 62, 1502/2.0, 1547/2.0),\n",
    "    (\"cm1bd\", \"old\", 9, 1103, 1136),\n",
    "    (\"cm2bd\", \"old\", 364, 1217/2.0, 1254/2.0),\n",
    "    (\"cm3bd\", \"old\", 27, 1412/3.0, 1454/3.0),\n",
    "    (\"sm2bd\", \"old\", 380, 1409/2.0, 1451/2.0),\n",
    "    (\"oms2bd\", \"old\", 806, 1307/2.0, 1346/2.0),\n",
    "    (\"mnst\", \"old\", 853, 849, 900),\n",
    "    (\"mn1bd\", \"old\", 44, 1191, 1250),\n",
    "    (\"mn2bd\", \"old\", 332, 1666/2.0, 1750/2.0),\n",
    "    (\"mn3bd\", \"old\", 120, 2470/3.0, 2593/3.0),\n",
    "    (\"ne1bd\", \"new\", 199, np.nan, 1302),\n",
    "    (\"ne2b1b\", \"new\", 536, np.nan, 1851/2.0),\n",
    "    (\"ne3b2b\", \"new\", 324, np.nan, 2850/3.0),\n",
    "    (\"ne4b2b\", \"new\", 304, np.nan, 3600/4.0),\n",
    "    (\"nw2b2b\", \"new\", 76, np.nan, 2080/2.0),\n",
    "    (\"nw2b1b\", \"new\", 228, np.nan, 1930/2.0),\n",
    "    (\"nw4b2b\", \"new\", 528, np.nan, 3760/4.0),\n",
    "    (\"nw6b3b\", \"new\", 42, np.nan, 5490/6.0)\n",
    "])\n",
    "housing_df.columns = [\"unit_type\", \"age\", \"n_beds\", \"rent_19-20\", \"rent_20-21\"]\n",
    "housing_df.head()"
   ]
  },
  {
   "cell_type": "markdown",
   "metadata": {},
   "source": [
    "# Function: Convert row in survey to `unit_type` in `housing_df`"
   ]
  },
  {
   "cell_type": "code",
   "execution_count": 19,
   "metadata": {},
   "outputs": [],
   "source": [
    "building_map = {\n",
    "    \"Coast\": \"coast\",\n",
    "    \"Mesa\": \"cm\",\n",
    "    \"Mesa Nueva\": \"mn\",\n",
    "    \"One Miramar St.\": \"oms\"\n",
    "}\n",
    "\n",
    "size_map = {\n",
    "    \"Studio\": \"st\",\n",
    "    \"1 bedroom\": \"1bd\",\n",
    "    \"2 bedrooms\": \"2bd\",\n",
    "    \"3 bedrooms\": \"3bd\"\n",
    "}\n",
    "\n",
    "def get_unit_type(row):\n",
    "    try:\n",
    "        building = building_map[row[\"house_devel\"]]\n",
    "    except KeyError:\n",
    "        return np.nan\n",
    "    \n",
    "    try:\n",
    "        size = size_map[row[\"n_beds\"]]\n",
    "    except KeyError:\n",
    "        return np.nan\n",
    "    \n",
    "    return building+size"
   ]
  },
  {
   "cell_type": "code",
   "execution_count": 21,
   "metadata": {},
   "outputs": [
    {
     "name": "stdout",
     "output_type": "stream",
     "text": [
      "(358, 66)\n"
     ]
    },
    {
     "name": "stderr",
     "output_type": "stream",
     "text": [
      "/Users/alexwenzel/miniconda3/lib/python3.7/site-packages/ipykernel_launcher.py:6: SettingWithCopyWarning:\n",
      "\n",
      "\n",
      "A value is trying to be set on a copy of a slice from a DataFrame.\n",
      "Try using .loc[row_indexer,col_indexer] = value instead\n",
      "\n",
      "See the caveats in the documentation: https://pandas.pydata.org/pandas-docs/stable/user_guide/indexing.html#returning-a-view-versus-a-copy\n",
      "\n"
     ]
    },
    {
     "data": {
      "text/plain": [
       "(332, 67)"
      ]
     },
     "execution_count": 21,
     "metadata": {},
     "output_type": "execute_result"
    }
   ],
   "source": [
    "df_on_campus = df[df[\"on_campus\"].isin([\"On-campus (lease/rent)\", \"On-campus (sublet)\"])]\n",
    "\n",
    "print(df_on_campus.shape)\n",
    "\n",
    "#df_on_campus[\"unit_type\"] = df_on_campus.apply(get_unit_type, axis = 1).dropna(subset = [\"unit_type\"])\n",
    "df_on_campus[\"unit_type\"] = df_on_campus.apply(get_unit_type, axis = 1)\n",
    "df_on_campus = df_on_campus.dropna(subset = [\"unit_type\"])\n",
    "\n",
    "df_on_campus.shape"
   ]
  },
  {
   "cell_type": "markdown",
   "metadata": {},
   "source": [
    "# Convert central mesa studio to 1 bd"
   ]
  },
  {
   "cell_type": "code",
   "execution_count": 22,
   "metadata": {},
   "outputs": [],
   "source": [
    "df_on_campus[\"unit_type\"] = df_on_campus[\"unit_type\"].replace(\"cmst\", \"cm1bd\")"
   ]
  },
  {
   "cell_type": "markdown",
   "metadata": {},
   "source": [
    "# Map new rents\n",
    "\n",
    "Here the current rents from the surveys are projected to next year using the proposed increases."
   ]
  },
  {
   "cell_type": "code",
   "execution_count": 23,
   "metadata": {},
   "outputs": [
    {
     "data": {
      "text/plain": [
       "unit_type\n",
       "coastst      818.0\n",
       "coast1bd    1108.0\n",
       "coast2bd     773.5\n",
       "cm1bd       1136.0\n",
       "cm2bd        627.0\n",
       "Name: rent_20-21, dtype: float64"
      ]
     },
     "execution_count": 23,
     "metadata": {},
     "output_type": "execute_result"
    }
   ],
   "source": [
    "new_rent_map = housing_df[\"rent_20-21\"]\n",
    "new_rent_map.index = housing_df[\"unit_type\"]\n",
    "new_rent_map.head()"
   ]
  },
  {
   "cell_type": "code",
   "execution_count": 24,
   "metadata": {},
   "outputs": [],
   "source": [
    "df_on_campus[\"new_rent_month\"] = df_on_campus.apply(lambda row: new_rent_map[row[\"unit_type\"]], axis = 1)"
   ]
  },
  {
   "cell_type": "markdown",
   "metadata": {},
   "source": [
    "# Calculate new rent burden"
   ]
  },
  {
   "cell_type": "code",
   "execution_count": 22,
   "metadata": {},
   "outputs": [],
   "source": [
    "df_on_campus[\"new_rent_burden\"] = (df_on_campus[\"new_rent_month\"] * 12) / df_on_campus[\"grad_prog_comp\"]"
   ]
  },
  {
   "cell_type": "code",
   "execution_count": 23,
   "metadata": {},
   "outputs": [
    {
     "data": {
      "image/png": "[encoded data removed]"
     },
     "metadata": {},
     "output_type": "display_data"
    }
   ],
   "source": [
    "plot_rent_burden(\n",
    "    df_on_campus[\"new_rent_burden\"]\n",
    ")"
   ]
  },
  {
   "cell_type": "markdown",
   "metadata": {},
   "source": [
    "# Final df before/after"
   ]
  },
  {
   "cell_type": "code",
   "execution_count": 24,
   "metadata": {},
   "outputs": [],
   "source": [
    "final_oc = df_on_campus[\n",
    "    [\"grad_prog_comp\", \"rent_month\", \"rent_burden\", \"unit_type\", \"new_rent_month\", \"new_rent_burden\"]\n",
    "]"
   ]
  },
  {
   "cell_type": "code",
   "execution_count": 25,
   "metadata": {},
   "outputs": [
    {
     "data": {
      "text/html": [
       "<div>\n",
       "<style scoped>\n",
       "    .dataframe tbody tr th:only-of-type {\n",
       "        vertical-align: middle;\n",
       "    }\n",
       "\n",
       "    .dataframe tbody tr th {\n",
       "        vertical-align: top;\n",
       "    }\n",
       "\n",
       "    .dataframe thead th {\n",
       "        text-align: right;\n",
       "    }\n",
       "</style>\n",
       "<table border=\"1\" class=\"dataframe\">\n",
       "  <thead>\n",
       "    <tr style=\"text-align: right;\">\n",
       "      <th></th>\n",
       "      <th>grad_prog_comp</th>\n",
       "      <th>rent_month</th>\n",
       "      <th>rent_burden</th>\n",
       "      <th>unit_type</th>\n",
       "      <th>new_rent_month</th>\n",
       "      <th>new_rent_burden</th>\n",
       "    </tr>\n",
       "  </thead>\n",
       "  <tbody>\n",
       "    <tr>\n",
       "      <th>1</th>\n",
       "      <td>20000</td>\n",
       "      <td>846</td>\n",
       "      <td>0.5076</td>\n",
       "      <td>mnst</td>\n",
       "      <td>900.000000</td>\n",
       "      <td>0.54</td>\n",
       "    </tr>\n",
       "    <tr>\n",
       "      <th>2</th>\n",
       "      <td>33000</td>\n",
       "      <td>670</td>\n",
       "      <td>0.243636</td>\n",
       "      <td>cm2bd</td>\n",
       "      <td>627.000000</td>\n",
       "      <td>0.228</td>\n",
       "    </tr>\n",
       "    <tr>\n",
       "      <th>4</th>\n",
       "      <td>30000</td>\n",
       "      <td>849</td>\n",
       "      <td>0.3396</td>\n",
       "      <td>mnst</td>\n",
       "      <td>900.000000</td>\n",
       "      <td>0.36</td>\n",
       "    </tr>\n",
       "    <tr>\n",
       "      <th>5</th>\n",
       "      <td>34000</td>\n",
       "      <td>653</td>\n",
       "      <td>0.230471</td>\n",
       "      <td>oms2bd</td>\n",
       "      <td>673.000000</td>\n",
       "      <td>0.237529</td>\n",
       "    </tr>\n",
       "    <tr>\n",
       "      <th>8</th>\n",
       "      <td>34000</td>\n",
       "      <td>850</td>\n",
       "      <td>0.3</td>\n",
       "      <td>mn3bd</td>\n",
       "      <td>864.333333</td>\n",
       "      <td>0.305059</td>\n",
       "    </tr>\n",
       "  </tbody>\n",
       "</table>\n",
       "</div>"
      ],
      "text/plain": [
       "  grad_prog_comp rent_month rent_burden unit_type  new_rent_month  \\\n",
       "1          20000        846      0.5076      mnst      900.000000   \n",
       "2          33000        670    0.243636     cm2bd      627.000000   \n",
       "4          30000        849      0.3396      mnst      900.000000   \n",
       "5          34000        653    0.230471    oms2bd      673.000000   \n",
       "8          34000        850         0.3     mn3bd      864.333333   \n",
       "\n",
       "  new_rent_burden  \n",
       "1            0.54  \n",
       "2           0.228  \n",
       "4            0.36  \n",
       "5        0.237529  \n",
       "8        0.305059  "
      ]
     },
     "execution_count": 25,
     "metadata": {},
     "output_type": "execute_result"
    }
   ],
   "source": [
    "final_oc.head()"
   ]
  },
  {
   "cell_type": "markdown",
   "metadata": {},
   "source": [
    "# Combined violin plot"
   ]
  },
  {
   "cell_type": "code",
   "execution_count": 32,
   "metadata": {},
   "outputs": [
    {
     "data": {
      "image/png": "[encoded data removed]"
     },
     "metadata": {},
     "output_type": "display_data"
    }
   ],
   "source": [
    "fig = go.Figure()\n",
    "\n",
    "greater = final_oc[final_oc[\"new_rent_month\"] > final_oc[\"rent_month\"]]\n",
    "\n",
    "curr_rent_burden = list(greater[\"rent_burden\"])\n",
    "proj_rent_burden = list(greater[\"new_rent_burden\"])\n",
    "\n",
    "for pair in [(\"curr_rent_burden\", curr_rent_burden), (\"proj_rent_burden\", proj_rent_burden)]:\n",
    "    fig.add_trace(\n",
    "        go.Violin(\n",
    "            x = [pair[0]]*len(pair[1]),\n",
    "            y = pair[1],\n",
    "            name = pair[0],\n",
    "            box_visible = True,\n",
    "            meanline_visible = True\n",
    "        )\n",
    "    )\n",
    "    \n",
    "fig.add_trace(\n",
    "    go.Scatter(\n",
    "        x = [\"curr_rent_burden\", \"proj_rent_burden\"],\n",
    "        y = [0.3, 0.3],\n",
    "        line = dict(\n",
    "            color = 'red'\n",
    "        )\n",
    "    )\n",
    ")\n",
    "\n",
    "fig.update_layout(template = 'plotly_white')\n",
    "fig.show(renderer=\"png\")"
   ]
  },
  {
   "cell_type": "code",
   "execution_count": 30,
   "metadata": {},
   "outputs": [
    {
     "data": {
      "text/plain": [
       "0.6954545454545454"
      ]
     },
     "execution_count": 30,
     "metadata": {},
     "output_type": "execute_result"
    }
   ],
   "source": [
    "greater[greater[\"rent_burden\"]>0.3].shape[0]/greater.shape[0]"
   ]
  },
  {
   "cell_type": "code",
   "execution_count": 31,
   "metadata": {},
   "outputs": [
    {
     "data": {
      "text/plain": [
       "0.8181818181818182"
      ]
     },
     "execution_count": 31,
     "metadata": {},
     "output_type": "execute_result"
    }
   ],
   "source": [
    "greater[greater[\"new_rent_burden\"]>0.3].shape[0]/greater.shape[0]"
   ]
  },
  {
   "cell_type": "code",
   "execution_count": 33,
   "metadata": {},
   "outputs": [
    {
     "data": {
      "text/plain": [
       "(220, 6)"
      ]
     },
     "execution_count": 33,
     "metadata": {},
     "output_type": "execute_result"
    }
   ],
   "source": [
    "greater.shape"
   ]
  },
  {
   "cell_type": "code",
   "execution_count": 34,
   "metadata": {},
   "outputs": [
    {
     "data": {
      "text/plain": [
       "{'cm1bd',\n",
       " 'cm2bd',\n",
       " 'coast1bd',\n",
       " 'coast2bd',\n",
       " 'coastst',\n",
       " 'mn1bd',\n",
       " 'mn2bd',\n",
       " 'mn3bd',\n",
       " 'mnst',\n",
       " 'oms2bd'}"
      ]
     },
     "execution_count": 34,
     "metadata": {},
     "output_type": "execute_result"
    }
   ],
   "source": [
    "set(greater[\"unit_type\"])"
   ]
  },
  {
   "cell_type": "code",
   "execution_count": null,
   "metadata": {},
   "outputs": [],
   "source": []
  }
 ],
 "metadata": {
  "kernelspec": {
   "display_name": "Python 3",
   "language": "python",
   "name": "python3"
  },
  "language_info": {
   "codemirror_mode": {
    "name": "ipython",
    "version": 3
   },
   "file_extension": ".py",
   "mimetype": "text/x-python",
   "name": "python",
   "nbconvert_exporter": "python",
   "pygments_lexer": "ipython3",
   "version": "3.7.1"
  }
 },
 "nbformat": 4,
 "nbformat_minor": 2
}
